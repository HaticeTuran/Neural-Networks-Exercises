{
  "nbformat": 4,
  "nbformat_minor": 0,
  "metadata": {
    "colab": {
      "provenance": [],
      "authorship_tag": "ABX9TyOocO0TbQTbur3s9pKrUg7R",
      "include_colab_link": true
    },
    "kernelspec": {
      "name": "python3",
      "display_name": "Python 3"
    },
    "language_info": {
      "name": "python"
    }
  },
  "cells": [
    {
      "cell_type": "markdown",
      "metadata": {
        "id": "view-in-github",
        "colab_type": "text"
      },
      "source": [
        "<a href=\"https://colab.research.google.com/github/HaticeTuran/Neural-Networks-Exercises/blob/main/NN_UE5_Hatice_Turan_190503011.ipynb\" target=\"_parent\"><img src=\"https://colab.research.google.com/assets/colab-badge.svg\" alt=\"Open In Colab\"/></a>"
      ]
    },
    {
      "cell_type": "code",
      "execution_count": 11,
      "metadata": {
        "id": "99T2Du8tQEox"
      },
      "outputs": [],
      "source": [
        "import numpy as np\n",
        "import tensorflow as tf\n",
        "from tensorflow.keras.datasets import mnist\n",
        "from tensorflow.keras.models import Sequential\n",
        "from tensorflow.keras.layers import Conv2D, MaxPooling2D, Flatten, Dense, Dropout"
      ]
    },
    {
      "cell_type": "code",
      "source": [
        "# Load and preprocess the MNIST dataset\n",
        "(x_train, y_train), (x_test, y_test) = mnist.load_data()\n",
        "x_train = x_train.reshape(-1, 28, 28, 1).astype('float32') / 255.0\n",
        "x_test = x_test.reshape(-1, 28, 28, 1).astype('float32') / 255.0\n",
        "y_train = tf.keras.utils.to_categorical(y_train, num_classes=10)\n",
        "y_test = tf.keras.utils.to_categorical(y_test, num_classes=10)"
      ],
      "metadata": {
        "colab": {
          "base_uri": "https://localhost:8080/"
        },
        "id": "KWa3KzgjQKUn",
        "outputId": "82bd3d75-da65-46ba-dfc8-616e06bc6b7d"
      },
      "execution_count": 2,
      "outputs": [
        {
          "output_type": "stream",
          "name": "stdout",
          "text": [
            "Downloading data from https://storage.googleapis.com/tensorflow/tf-keras-datasets/mnist.npz\n",
            "11490434/11490434 [==============================] - 1s 0us/step\n"
          ]
        }
      ]
    },
    {
      "cell_type": "markdown",
      "source": [
        "Model 1"
      ],
      "metadata": {
        "id": "Zn2MDktRh2Po"
      }
    },
    {
      "cell_type": "code",
      "source": [
        "# Build the CNN model\n",
        "model = Sequential()\n",
        "model.add(Conv2D(32, kernel_size=(3, 3), activation='relu', input_shape=(28, 28, 1)))\n",
        "model.add(MaxPooling2D(pool_size=(2, 2)))\n",
        "model.add(Conv2D(64, kernel_size=(3, 3), activation='relu'))\n",
        "model.add(MaxPooling2D(pool_size=(2, 2)))\n",
        "model.add(Flatten())\n",
        "model.add(Dense(128, activation='relu'))\n",
        "model.add(Dense(10, activation='softmax'))"
      ],
      "metadata": {
        "id": "qzIwWc7ZQLYU"
      },
      "execution_count": 3,
      "outputs": []
    },
    {
      "cell_type": "code",
      "source": [
        "\n",
        "# Compile and train the model\n",
        "model.compile(loss=tf.keras.losses.categorical_crossentropy, optimizer='adam', metrics=['accuracy'])\n",
        "model.fit(x_train, y_train, batch_size=128, epochs=10, validation_data=(x_test, y_test))\n"
      ],
      "metadata": {
        "colab": {
          "base_uri": "https://localhost:8080/"
        },
        "id": "TVoSGTvXQOaK",
        "outputId": "ed561aa6-698e-4523-c935-9fd5ef1a95fa"
      },
      "execution_count": 4,
      "outputs": [
        {
          "output_type": "stream",
          "name": "stdout",
          "text": [
            "Epoch 1/10\n",
            "469/469 [==============================] - 47s 98ms/step - loss: 0.2098 - accuracy: 0.9388 - val_loss: 0.0632 - val_accuracy: 0.9792\n",
            "Epoch 2/10\n",
            "469/469 [==============================] - 48s 102ms/step - loss: 0.0589 - accuracy: 0.9820 - val_loss: 0.0458 - val_accuracy: 0.9849\n",
            "Epoch 3/10\n",
            "469/469 [==============================] - 45s 96ms/step - loss: 0.0400 - accuracy: 0.9881 - val_loss: 0.0411 - val_accuracy: 0.9864\n",
            "Epoch 4/10\n",
            "469/469 [==============================] - 46s 99ms/step - loss: 0.0309 - accuracy: 0.9905 - val_loss: 0.0360 - val_accuracy: 0.9879\n",
            "Epoch 5/10\n",
            "469/469 [==============================] - 44s 94ms/step - loss: 0.0240 - accuracy: 0.9923 - val_loss: 0.0295 - val_accuracy: 0.9900\n",
            "Epoch 6/10\n",
            "469/469 [==============================] - 43s 91ms/step - loss: 0.0182 - accuracy: 0.9945 - val_loss: 0.0284 - val_accuracy: 0.9910\n",
            "Epoch 7/10\n",
            "469/469 [==============================] - 44s 93ms/step - loss: 0.0157 - accuracy: 0.9948 - val_loss: 0.0313 - val_accuracy: 0.9893\n",
            "Epoch 8/10\n",
            "469/469 [==============================] - 42s 90ms/step - loss: 0.0126 - accuracy: 0.9961 - val_loss: 0.0319 - val_accuracy: 0.9906\n",
            "Epoch 9/10\n",
            "469/469 [==============================] - 43s 92ms/step - loss: 0.0101 - accuracy: 0.9969 - val_loss: 0.0274 - val_accuracy: 0.9907\n",
            "Epoch 10/10\n",
            "469/469 [==============================] - 43s 93ms/step - loss: 0.0076 - accuracy: 0.9976 - val_loss: 0.0324 - val_accuracy: 0.9902\n"
          ]
        },
        {
          "output_type": "execute_result",
          "data": {
            "text/plain": [
              "<keras.callbacks.History at 0x7fea650150f0>"
            ]
          },
          "metadata": {},
          "execution_count": 4
        }
      ]
    },
    {
      "cell_type": "code",
      "source": [
        "# Evaluate the model on the test set\n",
        "loss, accuracy = model.evaluate(x_test, y_test)\n",
        "print('Test accuracy:', accuracy)"
      ],
      "metadata": {
        "colab": {
          "base_uri": "https://localhost:8080/"
        },
        "id": "HXv8wfosQQ0O",
        "outputId": "e7ef694e-1a79-42ef-e43d-ee4ccb57c76e"
      },
      "execution_count": 5,
      "outputs": [
        {
          "output_type": "stream",
          "name": "stdout",
          "text": [
            "313/313 [==============================] - 3s 8ms/step - loss: 0.0324 - accuracy: 0.9902\n",
            "Test accuracy: 0.9901999831199646\n"
          ]
        }
      ]
    },
    {
      "cell_type": "markdown",
      "source": [
        "Model 2"
      ],
      "metadata": {
        "id": "FQOU6zNLRiwI"
      }
    },
    {
      "cell_type": "code",
      "source": [
        "# Build the CNN model\n",
        "model_2 = Sequential()\n",
        "model_2.add(Conv2D(32, kernel_size=(3, 3), activation='relu', input_shape=(28, 28, 1)))\n",
        "model_2.add(MaxPooling2D(pool_size=(2, 2)))\n",
        "model_2.add(Conv2D(64, kernel_size=(3, 3), activation='relu'))\n",
        "model_2.add(MaxPooling2D(pool_size=(2, 2)))\n",
        "model_2.add(Conv2D(64, kernel_size=(3, 3), activation='relu'))\n",
        "model_2.add(MaxPooling2D(pool_size=(2, 2)))\n",
        "model_2.add(Flatten())\n",
        "model_2.add(Dense(128, activation='relu'))\n",
        "model_2.add(Dense(10, activation='softmax'))"
      ],
      "metadata": {
        "id": "qw_ggeq0RCvB"
      },
      "execution_count": 6,
      "outputs": []
    },
    {
      "cell_type": "code",
      "source": [
        "\n",
        "# Compile and train the model\n",
        "model_2.compile(loss=tf.keras.losses.categorical_crossentropy, optimizer='adam', metrics=['accuracy'])\n",
        "model_2.fit(x_train, y_train, batch_size=128, epochs=10, validation_data=(x_test, y_test))\n"
      ],
      "metadata": {
        "colab": {
          "base_uri": "https://localhost:8080/"
        },
        "id": "sz7XtsJDRY4G",
        "outputId": "0cc0cd52-57fa-45d1-cea5-f087bb8b1582"
      },
      "execution_count": 8,
      "outputs": [
        {
          "output_type": "stream",
          "name": "stdout",
          "text": [
            "Epoch 1/10\n",
            "469/469 [==============================] - 46s 95ms/step - loss: 0.3417 - accuracy: 0.9001 - val_loss: 0.1234 - val_accuracy: 0.9620\n",
            "Epoch 2/10\n",
            "469/469 [==============================] - 44s 94ms/step - loss: 0.1005 - accuracy: 0.9693 - val_loss: 0.0884 - val_accuracy: 0.9723\n",
            "Epoch 3/10\n",
            "469/469 [==============================] - 43s 92ms/step - loss: 0.0733 - accuracy: 0.9773 - val_loss: 0.0634 - val_accuracy: 0.9806\n",
            "Epoch 4/10\n",
            "469/469 [==============================] - 44s 94ms/step - loss: 0.0577 - accuracy: 0.9818 - val_loss: 0.0560 - val_accuracy: 0.9833\n",
            "Epoch 5/10\n",
            "469/469 [==============================] - 43s 91ms/step - loss: 0.0473 - accuracy: 0.9854 - val_loss: 0.0575 - val_accuracy: 0.9829\n",
            "Epoch 6/10\n",
            "469/469 [==============================] - 44s 94ms/step - loss: 0.0413 - accuracy: 0.9873 - val_loss: 0.0495 - val_accuracy: 0.9855\n",
            "Epoch 7/10\n",
            "469/469 [==============================] - 44s 93ms/step - loss: 0.0344 - accuracy: 0.9892 - val_loss: 0.0669 - val_accuracy: 0.9800\n",
            "Epoch 8/10\n",
            "469/469 [==============================] - 43s 92ms/step - loss: 0.0310 - accuracy: 0.9903 - val_loss: 0.0660 - val_accuracy: 0.9806\n",
            "Epoch 9/10\n",
            "469/469 [==============================] - 44s 94ms/step - loss: 0.0266 - accuracy: 0.9914 - val_loss: 0.0490 - val_accuracy: 0.9866\n",
            "Epoch 10/10\n",
            "469/469 [==============================] - 44s 93ms/step - loss: 0.0231 - accuracy: 0.9925 - val_loss: 0.0482 - val_accuracy: 0.9862\n"
          ]
        },
        {
          "output_type": "execute_result",
          "data": {
            "text/plain": [
              "<keras.callbacks.History at 0x7fea54b93970>"
            ]
          },
          "metadata": {},
          "execution_count": 8
        }
      ]
    },
    {
      "cell_type": "code",
      "source": [
        "# Evaluate the model on the test set\n",
        "loss, accuracy = model_2.evaluate(x_test, y_test)\n",
        "print('Test accuracy:', accuracy)"
      ],
      "metadata": {
        "colab": {
          "base_uri": "https://localhost:8080/"
        },
        "id": "hHMFkTy7RcLp",
        "outputId": "aaab6fde-9123-4750-dbed-11ecdae5f90c"
      },
      "execution_count": 9,
      "outputs": [
        {
          "output_type": "stream",
          "name": "stdout",
          "text": [
            "313/313 [==============================] - 3s 9ms/step - loss: 0.0482 - accuracy: 0.9862\n",
            "Test accuracy: 0.9861999750137329\n"
          ]
        }
      ]
    },
    {
      "cell_type": "markdown",
      "source": [
        "Model 3"
      ],
      "metadata": {
        "id": "np0-nR1EVDnJ"
      }
    },
    {
      "cell_type": "code",
      "source": [
        "model_3 = Sequential()\n",
        "model_3.add(Conv2D(32, kernel_size=3, padding=\"same\", activation=\"relu\"))\n",
        "model_3.add(Conv2D(64, kernel_size=3, padding=\"same\", activation=\"relu\"))\n",
        "model_3.add(MaxPooling2D())\n",
        "model_3.add(Flatten())\n",
        "model_3.add(Dropout(0.25))\n",
        "model_3.add(Dense(128, activation=\"relu\"))\n",
        "model_3.add(Dropout(0.5))\n",
        "model_3.add(Dense(10, activation=\"softmax\"))"
      ],
      "metadata": {
        "id": "sk9Xpm33U9qV"
      },
      "execution_count": 12,
      "outputs": []
    },
    {
      "cell_type": "code",
      "source": [
        "model_3.compile(loss=tf.keras.losses.categorical_crossentropy, optimizer='adam', metrics=['accuracy'])\n",
        "model_3.fit(x_train, y_train, batch_size=128, epochs=10, validation_data=(x_test, y_test))"
      ],
      "metadata": {
        "colab": {
          "base_uri": "https://localhost:8080/"
        },
        "id": "3AGg-T_AVWrI",
        "outputId": "6ccfcfe9-fe44-41da-f7f2-87b5bc3d9c56"
      },
      "execution_count": 13,
      "outputs": [
        {
          "output_type": "stream",
          "name": "stdout",
          "text": [
            "Epoch 1/10\n",
            "469/469 [==============================] - 177s 375ms/step - loss: 0.2429 - accuracy: 0.9259 - val_loss: 0.0515 - val_accuracy: 0.9839\n",
            "Epoch 2/10\n",
            "469/469 [==============================] - 167s 355ms/step - loss: 0.0894 - accuracy: 0.9737 - val_loss: 0.0390 - val_accuracy: 0.9865\n",
            "Epoch 3/10\n",
            "469/469 [==============================] - 165s 352ms/step - loss: 0.0644 - accuracy: 0.9807 - val_loss: 0.0333 - val_accuracy: 0.9887\n",
            "Epoch 4/10\n",
            "469/469 [==============================] - 171s 364ms/step - loss: 0.0535 - accuracy: 0.9842 - val_loss: 0.0311 - val_accuracy: 0.9896\n",
            "Epoch 5/10\n",
            "469/469 [==============================] - 168s 358ms/step - loss: 0.0453 - accuracy: 0.9861 - val_loss: 0.0279 - val_accuracy: 0.9902\n",
            "Epoch 6/10\n",
            "469/469 [==============================] - 168s 358ms/step - loss: 0.0398 - accuracy: 0.9878 - val_loss: 0.0271 - val_accuracy: 0.9916\n",
            "Epoch 7/10\n",
            "469/469 [==============================] - 170s 363ms/step - loss: 0.0358 - accuracy: 0.9886 - val_loss: 0.0305 - val_accuracy: 0.9910\n",
            "Epoch 8/10\n",
            "469/469 [==============================] - 164s 351ms/step - loss: 0.0300 - accuracy: 0.9904 - val_loss: 0.0247 - val_accuracy: 0.9928\n",
            "Epoch 9/10\n",
            "469/469 [==============================] - 165s 352ms/step - loss: 0.0264 - accuracy: 0.9915 - val_loss: 0.0276 - val_accuracy: 0.9913\n",
            "Epoch 10/10\n",
            "469/469 [==============================] - 165s 352ms/step - loss: 0.0263 - accuracy: 0.9915 - val_loss: 0.0280 - val_accuracy: 0.9918\n"
          ]
        },
        {
          "output_type": "execute_result",
          "data": {
            "text/plain": [
              "<keras.callbacks.History at 0x7fea558764a0>"
            ]
          },
          "metadata": {},
          "execution_count": 13
        }
      ]
    },
    {
      "cell_type": "code",
      "source": [
        "# Evaluate the model on the test set\n",
        "loss, accuracy = model_3.evaluate(x_test, y_test)\n",
        "print('Test accuracy:', accuracy)"
      ],
      "metadata": {
        "colab": {
          "base_uri": "https://localhost:8080/"
        },
        "id": "yi_EpclUWKMq",
        "outputId": "d623d8ad-af48-401b-90c8-23390d7addc8"
      },
      "execution_count": 14,
      "outputs": [
        {
          "output_type": "stream",
          "name": "stdout",
          "text": [
            "313/313 [==============================] - 7s 23ms/step - loss: 0.0280 - accuracy: 0.9918\n",
            "Test accuracy: 0.9918000102043152\n"
          ]
        }
      ]
    },
    {
      "cell_type": "code",
      "source": [],
      "metadata": {
        "id": "71azrFokhlX3"
      },
      "execution_count": null,
      "outputs": []
    }
  ]
}